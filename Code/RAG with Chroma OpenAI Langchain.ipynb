{
 "cells": [
  {
   "cell_type": "raw",
   "id": "66415900-5b43-4c48-b5de-b18ce23f49c8",
   "metadata": {},
   "source": [
    "Aim: \n",
    "    To build a Agentic RAG, \n",
    "        Which can incorporate relevant personal and past information for making personalized recommendations.\n",
    "\n",
    "Project: \n",
    "    Data => Amazon data from kaggle (1500 data points)\n",
    "            link => https://www.kaggle.com/datasets/karkavelrajaj/amazon-sales-dataset\n",
    "    Idealogy: \n",
    "        A product has been given given by users.\n",
    "        Take a user who has give reviews to few products ( one or many )\n",
    "\n",
    "        Based on the user reviews => predict what would be his next review product. (Indirectly => next purchase)\n",
    "        [ Note: A user definetly buys the product and then gives the review. ] \n",
    "\n",
    "        Based on the product based recommendation\n",
    "        Based on the user based recommendations \n",
    "        [ Collaborative Recommendation | Agentic Approach ]\n",
    "        "
   ]
  },
  {
   "cell_type": "raw",
   "id": "7f18e0dd-00b1-4a80-848c-1f5301c68fbf",
   "metadata": {},
   "source": [
    "for a user: \n",
    "    few products | few reviews => [ for product has given review ] \n",
    "                => Vector DB (Chroma)\n",
    "                => RAG (Nearest user)\n",
    "                => \n",
    "    "
   ]
  },
  {
   "cell_type": "code",
   "execution_count": null,
   "id": "14aa8d3e-a006-49a1-aa4e-1cfce5f3fa07",
   "metadata": {},
   "outputs": [],
   "source": []
  },
  {
   "cell_type": "code",
   "execution_count": 3,
   "id": "5b590b82-ef13-4cd6-bd1a-a032b6275e74",
   "metadata": {},
   "outputs": [],
   "source": [
    "# libraries\n",
    "import pandas as pd\n",
    "import tqdm"
   ]
  },
  {
   "cell_type": "code",
   "execution_count": 2,
   "id": "e32db931-87c5-4ca7-9e0b-ded152b9f4f2",
   "metadata": {},
   "outputs": [],
   "source": [
    "path = \"../data/amazon/amazon.csv\"\n",
    "df = pd.read_csv(path)"
   ]
  },
  {
   "cell_type": "code",
   "execution_count": 3,
   "id": "021aa41c-9ab1-407a-9a78-5ef8ab074ecf",
   "metadata": {},
   "outputs": [
    {
     "data": {
      "text/plain": [
       "'AHIKJUDTVJ4T6DV6IUGFYZ5LXMPA,AE55KTFVNXYFD5FPYWP2OUPEYNPQ,AEBWA5I4QFCA3P3OBEPMELBGN4GQ,AHMGAC6QM62UXNEOCZIHLHSXPP2Q,AFHROSCGIXUPV3FYQ7H5QOD46Q7Q,AEAMIR3CMSA32IDEINSJKHRNANTA,AF355FTXYAKFH5NYPRTE7SL3WO3Q,AG5DWPD54QGSLWJ6QUFERLPNAX4Q'"
      ]
     },
     "execution_count": 3,
     "metadata": {},
     "output_type": "execute_result"
    }
   ],
   "source": [
    "df.user_id.value_counts().index[0]"
   ]
  },
  {
   "cell_type": "code",
   "execution_count": 4,
   "id": "3b534cb1-859d-4dac-9282-81b90df9663a",
   "metadata": {},
   "outputs": [],
   "source": [
    "# Data preparation: \n",
    "    # task 1: Expand the dataset\n",
    "        # Every product => has few users and their review in comma delimetted values together in user_id, review_title, review_content\n",
    "        # Expand them individually"
   ]
  },
  {
   "cell_type": "code",
   "execution_count": 33,
   "id": "c865a0a5-8b7a-4664-889e-1e090a1dfad1",
   "metadata": {},
   "outputs": [],
   "source": [
    "data = []\n",
    "rows = df.to_dict(\"records\")\n",
    "    "
   ]
  },
  {
   "cell_type": "code",
   "execution_count": 35,
   "id": "c0153d07-10b5-4ef5-8cf5-07d9093940a6",
   "metadata": {},
   "outputs": [
    {
     "name": "stderr",
     "output_type": "stream",
     "text": [
      "100%|███████████████████████████████████████████████████████████████████████████| 1465/1465 [00:00<00:00, 33837.51it/s]\n"
     ]
    }
   ],
   "source": [
    "\n",
    "for row in tqdm.tqdm(rows):\n",
    "    ext_rows = []\n",
    "    \n",
    "    # print(row)\n",
    "    # print(\"\\n\")\n",
    "    \n",
    "    user_ids = row['user_id'].split(\",\")\n",
    "    user_names = row['user_name'].split(\",\")\n",
    "    \n",
    "    review_ids = row['review_id'].split(\",\")\n",
    "    review_titles = row['review_title'].split(\",\")\n",
    "    review_contents = row['review_content'].split(\",\")\n",
    "\n",
    "    if len(user_ids) == len(user_names) == len(review_ids) == len(review_titles) == len(review_contents):\n",
    "        ##\n",
    "        for user_id , user_name, review_id , review_title , review_content in zip(user_ids, user_names, review_ids, review_titles, review_contents ):\n",
    "            temp_row = row.copy()\n",
    "            temp_row['user_id'] = user_id\n",
    "            temp_row['user_name'] = user_name\n",
    "            temp_row['review_id'] = review_id\n",
    "            temp_row['review_title'] = review_title\n",
    "            temp_row['review_content'] = review_content\n",
    "            data.append(temp_row)\n",
    "    else:\n",
    "        min_len = min(len(user_ids) ,  len(user_names) , len(review_ids) , len(review_titles) , len(review_contents))\n",
    "        for user_id , user_name, review_id , review_title , review_content in zip(user_ids[:min_len], user_names[:min_len], review_ids[:min_len], review_titles[:min_len], review_contents[:min_len] ):\n",
    "            temp_row = row.copy()\n",
    "            temp_row['user_id'] = user_id\n",
    "            temp_row['user_name'] = user_name\n",
    "            temp_row['review_id'] = review_id\n",
    "            temp_row['review_title'] = review_title\n",
    "            temp_row['review_content'] = review_content\n",
    "            data.append(temp_row)"
   ]
  },
  {
   "cell_type": "code",
   "execution_count": 36,
   "id": "12378589-6589-48e6-be5d-f3ac5de8db5c",
   "metadata": {},
   "outputs": [
    {
     "data": {
      "text/plain": [
       "11503"
      ]
     },
     "execution_count": 36,
     "metadata": {},
     "output_type": "execute_result"
    }
   ],
   "source": [
    "len(data) # Note: Data has increased 7 times. "
   ]
  },
  {
   "cell_type": "code",
   "execution_count": 40,
   "id": "b66ae490-f918-49da-ba06-ed95103396ec",
   "metadata": {},
   "outputs": [],
   "source": [
    "# nlp data"
   ]
  },
  {
   "cell_type": "code",
   "execution_count": 42,
   "id": "8d14a39f-4e70-452e-bb39-e09dd945f415",
   "metadata": {},
   "outputs": [],
   "source": [
    "nlp_df = pd.DataFrame(data)"
   ]
  },
  {
   "cell_type": "code",
   "execution_count": 43,
   "id": "9d1ccc74-1f78-4761-aa50-4b41ff9a9051",
   "metadata": {},
   "outputs": [
    {
     "data": {
      "text/html": [
       "<div>\n",
       "<style scoped>\n",
       "    .dataframe tbody tr th:only-of-type {\n",
       "        vertical-align: middle;\n",
       "    }\n",
       "\n",
       "    .dataframe tbody tr th {\n",
       "        vertical-align: top;\n",
       "    }\n",
       "\n",
       "    .dataframe thead th {\n",
       "        text-align: right;\n",
       "    }\n",
       "</style>\n",
       "<table border=\"1\" class=\"dataframe\">\n",
       "  <thead>\n",
       "    <tr style=\"text-align: right;\">\n",
       "      <th></th>\n",
       "      <th>product_id</th>\n",
       "      <th>product_name</th>\n",
       "      <th>category</th>\n",
       "      <th>discounted_price</th>\n",
       "      <th>actual_price</th>\n",
       "      <th>discount_percentage</th>\n",
       "      <th>rating</th>\n",
       "      <th>rating_count</th>\n",
       "      <th>about_product</th>\n",
       "      <th>user_id</th>\n",
       "      <th>user_name</th>\n",
       "      <th>review_id</th>\n",
       "      <th>review_title</th>\n",
       "      <th>review_content</th>\n",
       "      <th>img_link</th>\n",
       "      <th>product_link</th>\n",
       "    </tr>\n",
       "  </thead>\n",
       "  <tbody>\n",
       "    <tr>\n",
       "      <th>0</th>\n",
       "      <td>B07JW9H4J1</td>\n",
       "      <td>Wayona Nylon Braided USB to Lightning Fast Cha...</td>\n",
       "      <td>Computers&amp;Accessories|Accessories&amp;Peripherals|...</td>\n",
       "      <td>₹399</td>\n",
       "      <td>₹1,099</td>\n",
       "      <td>64%</td>\n",
       "      <td>4.2</td>\n",
       "      <td>24,269</td>\n",
       "      <td>High Compatibility : Compatible With iPhone 12...</td>\n",
       "      <td>AG3D6O4STAQKAY2UVGEUV46KN35Q</td>\n",
       "      <td>Manav</td>\n",
       "      <td>R3HXWT0LRP0NMF</td>\n",
       "      <td>Satisfied</td>\n",
       "      <td>Looks durable Charging is fine tooNo complains</td>\n",
       "      <td>https://m.media-amazon.com/images/W/WEBP_40237...</td>\n",
       "      <td>https://www.amazon.in/Wayona-Braided-WN3LG1-Sy...</td>\n",
       "    </tr>\n",
       "    <tr>\n",
       "      <th>1</th>\n",
       "      <td>B07JW9H4J1</td>\n",
       "      <td>Wayona Nylon Braided USB to Lightning Fast Cha...</td>\n",
       "      <td>Computers&amp;Accessories|Accessories&amp;Peripherals|...</td>\n",
       "      <td>₹399</td>\n",
       "      <td>₹1,099</td>\n",
       "      <td>64%</td>\n",
       "      <td>4.2</td>\n",
       "      <td>24,269</td>\n",
       "      <td>High Compatibility : Compatible With iPhone 12...</td>\n",
       "      <td>AHMY5CWJMMK5BJRBBSNLYT3ONILA</td>\n",
       "      <td>Adarsh gupta</td>\n",
       "      <td>R2AJM3LFTLZHFO</td>\n",
       "      <td>Charging is really fast</td>\n",
       "      <td>Charging is really fast</td>\n",
       "      <td>https://m.media-amazon.com/images/W/WEBP_40237...</td>\n",
       "      <td>https://www.amazon.in/Wayona-Braided-WN3LG1-Sy...</td>\n",
       "    </tr>\n",
       "    <tr>\n",
       "      <th>2</th>\n",
       "      <td>B07JW9H4J1</td>\n",
       "      <td>Wayona Nylon Braided USB to Lightning Fast Cha...</td>\n",
       "      <td>Computers&amp;Accessories|Accessories&amp;Peripherals|...</td>\n",
       "      <td>₹399</td>\n",
       "      <td>₹1,099</td>\n",
       "      <td>64%</td>\n",
       "      <td>4.2</td>\n",
       "      <td>24,269</td>\n",
       "      <td>High Compatibility : Compatible With iPhone 12...</td>\n",
       "      <td>AHCTC6ULH4XB6YHDY6PCH2R772LQ</td>\n",
       "      <td>Sundeep</td>\n",
       "      <td>R6AQJGUP6P86</td>\n",
       "      <td>Value for money</td>\n",
       "      <td>good product.</td>\n",
       "      <td>https://m.media-amazon.com/images/W/WEBP_40237...</td>\n",
       "      <td>https://www.amazon.in/Wayona-Braided-WN3LG1-Sy...</td>\n",
       "    </tr>\n",
       "    <tr>\n",
       "      <th>3</th>\n",
       "      <td>B07JW9H4J1</td>\n",
       "      <td>Wayona Nylon Braided USB to Lightning Fast Cha...</td>\n",
       "      <td>Computers&amp;Accessories|Accessories&amp;Peripherals|...</td>\n",
       "      <td>₹399</td>\n",
       "      <td>₹1,099</td>\n",
       "      <td>64%</td>\n",
       "      <td>4.2</td>\n",
       "      <td>24,269</td>\n",
       "      <td>High Compatibility : Compatible With iPhone 12...</td>\n",
       "      <td>AGYHHIERNXKA6P5T7CZLXKVPT7IQ</td>\n",
       "      <td>S.Sayeed Ahmed</td>\n",
       "      <td>R1KD19VHEDV0OR</td>\n",
       "      <td>Product review</td>\n",
       "      <td>Till now satisfied with the quality.</td>\n",
       "      <td>https://m.media-amazon.com/images/W/WEBP_40237...</td>\n",
       "      <td>https://www.amazon.in/Wayona-Braided-WN3LG1-Sy...</td>\n",
       "    </tr>\n",
       "    <tr>\n",
       "      <th>4</th>\n",
       "      <td>B07JW9H4J1</td>\n",
       "      <td>Wayona Nylon Braided USB to Lightning Fast Cha...</td>\n",
       "      <td>Computers&amp;Accessories|Accessories&amp;Peripherals|...</td>\n",
       "      <td>₹399</td>\n",
       "      <td>₹1,099</td>\n",
       "      <td>64%</td>\n",
       "      <td>4.2</td>\n",
       "      <td>24,269</td>\n",
       "      <td>High Compatibility : Compatible With iPhone 12...</td>\n",
       "      <td>AG4OGOFWXJZTQ2HKYIOCOY3KXF2Q</td>\n",
       "      <td>jaspreet singh</td>\n",
       "      <td>R3C02RMYQMK6FC</td>\n",
       "      <td>Good quality</td>\n",
       "      <td>This is a good product . The charging speed is...</td>\n",
       "      <td>https://m.media-amazon.com/images/W/WEBP_40237...</td>\n",
       "      <td>https://www.amazon.in/Wayona-Braided-WN3LG1-Sy...</td>\n",
       "    </tr>\n",
       "  </tbody>\n",
       "</table>\n",
       "</div>"
      ],
      "text/plain": [
       "   product_id                                       product_name  \\\n",
       "0  B07JW9H4J1  Wayona Nylon Braided USB to Lightning Fast Cha...   \n",
       "1  B07JW9H4J1  Wayona Nylon Braided USB to Lightning Fast Cha...   \n",
       "2  B07JW9H4J1  Wayona Nylon Braided USB to Lightning Fast Cha...   \n",
       "3  B07JW9H4J1  Wayona Nylon Braided USB to Lightning Fast Cha...   \n",
       "4  B07JW9H4J1  Wayona Nylon Braided USB to Lightning Fast Cha...   \n",
       "\n",
       "                                            category discounted_price  \\\n",
       "0  Computers&Accessories|Accessories&Peripherals|...             ₹399   \n",
       "1  Computers&Accessories|Accessories&Peripherals|...             ₹399   \n",
       "2  Computers&Accessories|Accessories&Peripherals|...             ₹399   \n",
       "3  Computers&Accessories|Accessories&Peripherals|...             ₹399   \n",
       "4  Computers&Accessories|Accessories&Peripherals|...             ₹399   \n",
       "\n",
       "  actual_price discount_percentage rating rating_count  \\\n",
       "0       ₹1,099                 64%    4.2       24,269   \n",
       "1       ₹1,099                 64%    4.2       24,269   \n",
       "2       ₹1,099                 64%    4.2       24,269   \n",
       "3       ₹1,099                 64%    4.2       24,269   \n",
       "4       ₹1,099                 64%    4.2       24,269   \n",
       "\n",
       "                                       about_product  \\\n",
       "0  High Compatibility : Compatible With iPhone 12...   \n",
       "1  High Compatibility : Compatible With iPhone 12...   \n",
       "2  High Compatibility : Compatible With iPhone 12...   \n",
       "3  High Compatibility : Compatible With iPhone 12...   \n",
       "4  High Compatibility : Compatible With iPhone 12...   \n",
       "\n",
       "                        user_id       user_name       review_id  \\\n",
       "0  AG3D6O4STAQKAY2UVGEUV46KN35Q           Manav  R3HXWT0LRP0NMF   \n",
       "1  AHMY5CWJMMK5BJRBBSNLYT3ONILA    Adarsh gupta  R2AJM3LFTLZHFO   \n",
       "2  AHCTC6ULH4XB6YHDY6PCH2R772LQ         Sundeep    R6AQJGUP6P86   \n",
       "3  AGYHHIERNXKA6P5T7CZLXKVPT7IQ  S.Sayeed Ahmed  R1KD19VHEDV0OR   \n",
       "4  AG4OGOFWXJZTQ2HKYIOCOY3KXF2Q  jaspreet singh  R3C02RMYQMK6FC   \n",
       "\n",
       "              review_title                                     review_content  \\\n",
       "0                Satisfied     Looks durable Charging is fine tooNo complains   \n",
       "1  Charging is really fast                            Charging is really fast   \n",
       "2          Value for money                                      good product.   \n",
       "3           Product review               Till now satisfied with the quality.   \n",
       "4             Good quality  This is a good product . The charging speed is...   \n",
       "\n",
       "                                            img_link  \\\n",
       "0  https://m.media-amazon.com/images/W/WEBP_40237...   \n",
       "1  https://m.media-amazon.com/images/W/WEBP_40237...   \n",
       "2  https://m.media-amazon.com/images/W/WEBP_40237...   \n",
       "3  https://m.media-amazon.com/images/W/WEBP_40237...   \n",
       "4  https://m.media-amazon.com/images/W/WEBP_40237...   \n",
       "\n",
       "                                        product_link  \n",
       "0  https://www.amazon.in/Wayona-Braided-WN3LG1-Sy...  \n",
       "1  https://www.amazon.in/Wayona-Braided-WN3LG1-Sy...  \n",
       "2  https://www.amazon.in/Wayona-Braided-WN3LG1-Sy...  \n",
       "3  https://www.amazon.in/Wayona-Braided-WN3LG1-Sy...  \n",
       "4  https://www.amazon.in/Wayona-Braided-WN3LG1-Sy...  "
      ]
     },
     "execution_count": 43,
     "metadata": {},
     "output_type": "execute_result"
    }
   ],
   "source": [
    "nlp_df.head()"
   ]
  },
  {
   "cell_type": "code",
   "execution_count": 48,
   "id": "de09970c-6124-474b-a517-6a09d7a8b8db",
   "metadata": {},
   "outputs": [],
   "source": [
    "# Now, we take users who has atleast five product reviews made. "
   ]
  },
  {
   "cell_type": "code",
   "execution_count": 54,
   "id": "9549c5e3-115f-4c5f-99af-fd3263d297c5",
   "metadata": {},
   "outputs": [],
   "source": [
    "user_ids = list(nlp_df.user_id.value_counts().index)[:70]"
   ]
  },
  {
   "cell_type": "code",
   "execution_count": 59,
   "id": "78723efe-fd83-44eb-9692-5b113f0df393",
   "metadata": {},
   "outputs": [],
   "source": [
    "temp = nlp_df[nlp_df.user_id == user_ids[0]]"
   ]
  },
  {
   "cell_type": "code",
   "execution_count": 74,
   "id": "0489a479-16f2-427f-95a7-fcc8610e6a59",
   "metadata": {},
   "outputs": [],
   "source": [
    "final_data = []\n",
    "\n",
    "for user_id in user_ids:\n",
    "    temp_df = nlp_df[nlp_df.user_id == user_id]\n",
    "    temp_records = temp_df.to_dict(\"records\")\n",
    "    \n",
    "    temp_row = {'user_id':user_id}\n",
    "    \n",
    "    all_reviews_list = []\n",
    "    for row in temp_records:\n",
    "        temp_review = \"For Product :: {} \\n in Category :: {} \\n with description :: {} \\n User has given an Review with title :: {} and review content :: {}.\".format(\n",
    "            row['product_name'],\n",
    "            row['category'],\n",
    "            row['about_product'],\n",
    "            row['review_title'],\n",
    "            row['review_content']\n",
    "        )\n",
    "        all_reviews_list.append(temp_review)\n",
    "\n",
    "    all_reviews_str = \"\\n\".join(all_reviews_list)\n",
    "    temp_row[\"review\"] = all_reviews_str\n",
    "    final_data.append(temp_row)"
   ]
  },
  {
   "cell_type": "code",
   "execution_count": 77,
   "id": "3607c7d2-85f6-48bd-a8b7-22d0303b1b4c",
   "metadata": {},
   "outputs": [],
   "source": [
    "final_df = pd.DataFrame(final_data)"
   ]
  },
  {
   "cell_type": "code",
   "execution_count": 78,
   "id": "e07f063b-e3a1-4dcb-9f73-12add6d62bea",
   "metadata": {},
   "outputs": [],
   "source": [
    "## saving to a file\n",
    "final_df.to_csv(\"../data/amazon/formatted_data.csv\",index=None)"
   ]
  },
  {
   "cell_type": "code",
   "execution_count": 4,
   "id": "766a5aaf-66a1-4371-8366-c01c6ff6f246",
   "metadata": {},
   "outputs": [],
   "source": [
    "## Loading the tile\n",
    "final_df = pd.read_csv(\"../data/amazon/formatted_data.csv\")"
   ]
  },
  {
   "cell_type": "code",
   "execution_count": 1,
   "id": "1a18f1d4-74dc-4939-a05e-b98f74eadce8",
   "metadata": {},
   "outputs": [],
   "source": [
    "#### Implementing Vector Based RAG Pipeline"
   ]
  },
  {
   "cell_type": "code",
   "execution_count": 2,
   "id": "2fe98400-b489-47d0-81f3-d2b14570ff36",
   "metadata": {},
   "outputs": [],
   "source": [
    "from langchain.vectorstores import Chroma\n",
    "from langchain.embeddings import OpenAIEmbeddings\n",
    "from langchain.text_splitter import RecursiveCharacterTextSplitter\n",
    "from langchain.llms import OpenAI\n",
    "from langchain.chains import VectorDBQA\n",
    "from langchain.document_loaders import TextLoader"
   ]
  },
  {
   "cell_type": "code",
   "execution_count": 7,
   "id": "8eb3d91c-23d0-4330-9c75-6799afed850d",
   "metadata": {},
   "outputs": [],
   "source": [
    "texts = list(final_df.review.values)"
   ]
  },
  {
   "cell_type": "code",
   "execution_count": 14,
   "id": "4940d610-e0ec-47ee-a7c4-ea4e7600ef26",
   "metadata": {},
   "outputs": [],
   "source": []
  },
  {
   "cell_type": "code",
   "execution_count": 34,
   "id": "97d97b6f-8f3c-43bb-838b-1210162cb149",
   "metadata": {},
   "outputs": [],
   "source": [
    "import os\n",
    "os.environ[\"OPENAI_API_KEY\"] = openai_api_key"
   ]
  },
  {
   "cell_type": "code",
   "execution_count": null,
   "id": "405c0cec-729f-4d47-b7f5-dff2eecc319f",
   "metadata": {},
   "outputs": [],
   "source": []
  },
  {
   "cell_type": "code",
   "execution_count": 35,
   "id": "915d7748-5b23-4eca-9c57-72f578d8be0e",
   "metadata": {},
   "outputs": [],
   "source": [
    "from langchain_openai import ChatOpenAI\n",
    "llm = ChatOpenAI(model=\"gpt-3.5-turbo-0125\")"
   ]
  },
  {
   "cell_type": "code",
   "execution_count": 28,
   "id": "6a8b1d8c-dfa0-41f6-b474-71ae05a74dc8",
   "metadata": {},
   "outputs": [],
   "source": [
    "text_splitter = RecursiveCharacterTextSplitter(chunk_size=8000, chunk_overlap=200)"
   ]
  },
  {
   "cell_type": "code",
   "execution_count": 30,
   "id": "d920f2e4-c9ca-4555-bd1d-726201d41733",
   "metadata": {},
   "outputs": [],
   "source": [
    "splits = [ text_splitter.split_text(text)[0] for text in texts] "
   ]
  },
  {
   "cell_type": "code",
   "execution_count": 37,
   "id": "0c12a413-fb2b-490b-a254-bb163a7b64aa",
   "metadata": {},
   "outputs": [],
   "source": [
    "from langchain.docstore.document import Document\n",
    "docs = [Document(page_content=split, metadata={\"source\": \"local\"}) for split in splits ]  "
   ]
  },
  {
   "cell_type": "code",
   "execution_count": 38,
   "id": "100589eb-007b-487f-9350-5d2cf63a622d",
   "metadata": {},
   "outputs": [],
   "source": [
    "vectorstore = Chroma.from_documents(documents=docs, embedding=OpenAIEmbeddings())"
   ]
  },
  {
   "cell_type": "code",
   "execution_count": 40,
   "id": "62edc142-3958-49ba-aa1f-65e9c92a62d1",
   "metadata": {},
   "outputs": [],
   "source": [
    "# Retrieve and generate using the relevant snippets of the blog.\n",
    "retriever = vectorstore.as_retriever()\n",
    "prompt = hub.pull(\"rlm/rag-prompt\")"
   ]
  },
  {
   "cell_type": "code",
   "execution_count": 42,
   "id": "55a2dd8f-0df1-4222-b2cb-3b59eeaecf95",
   "metadata": {},
   "outputs": [],
   "source": [
    "def format_docs(docs):\n",
    "    return \"\\n\\n\".join(doc.page_content for doc in docs)"
   ]
  },
  {
   "cell_type": "code",
   "execution_count": 43,
   "id": "029bc471-76e6-4222-a981-7d76602d83b1",
   "metadata": {},
   "outputs": [],
   "source": [
    "rag_chain = (\n",
    "    {\"context\": retriever | format_docs, \"question\": RunnablePassthrough()}\n",
    "    | prompt\n",
    "    | llm\n",
    "    | StrOutputParser()\n",
    ")"
   ]
  },
  {
   "cell_type": "code",
   "execution_count": 44,
   "id": "a2a08f16-2ef5-4717-b4a7-a225bd46e4a1",
   "metadata": {},
   "outputs": [
    {
     "data": {
      "text/plain": [
       "'The Flix Micro USB Cable for Smartphones in black is 1 meter long and optimized for easy use at home or in the office. It has a durable PVC outer exterior and can charge and sync data simultaneously at 480mbps speed. It is compatible with all devices with a micro USB port.'"
      ]
     },
     "execution_count": 44,
     "metadata": {},
     "output_type": "execute_result"
    }
   ],
   "source": [
    "rag_chain.invoke(splits[0])"
   ]
  },
  {
   "cell_type": "code",
   "execution_count": null,
   "id": "ecbb4e12-b1d5-4708-95f7-b51b0f20ad8b",
   "metadata": {},
   "outputs": [],
   "source": []
  },
  {
   "cell_type": "code",
   "execution_count": 45,
   "id": "125c9757-c6f6-4493-9e62-5d2460e5f8ca",
   "metadata": {},
   "outputs": [],
   "source": [
    "### With Chroma DB : Not with chain"
   ]
  },
  {
   "cell_type": "code",
   "execution_count": 46,
   "id": "976ef13a-98eb-453b-8156-ef0eef881003",
   "metadata": {},
   "outputs": [],
   "source": [
    "\n",
    "# query it\n",
    "query = \"What did the president say about Ketanji Brown Jackson\"\n",
    "docs = vectorstore.similarity_search(splits[0])"
   ]
  },
  {
   "cell_type": "code",
   "execution_count": 51,
   "id": "a26799f3-5e30-4a93-8474-d78bc467c01d",
   "metadata": {},
   "outputs": [
    {
     "name": "stdout",
     "output_type": "stream",
     "text": [
      "For Product :: Flix Micro Usb Cable For Smartphone (Black) \n",
      " in Category :: Computers&Accessories|Accessories&Peripherals|Cables&Accessories|Cables|USBCables \n",
      " with description :: Micro usb cable is 1 meter in length, optimized for easy use for your comfort at home or office, helps you to overcome distance restrictions|Durable pvc outer exterior: Pvc cables are versatile, high in tensile strength, flexible, and good conductors|Charge & sync, this usb cable can charge and data sync simultaneously at 480mbps speed, compatible with all devices with a micro usb port. Core : Tinned copper|Micro usb charging cable for android phones and any other device with micro usb port|Contact us on 1800-102-2700 or write us on support@flixaccessories.com \n",
      " User has given an Review with title :: Working well. and review content :: The sturdiness will depend on the manner of its use. But its speed of charging is great. Very good product for the average income group..\n",
      "For Product :: FLiX (Beetel USB to Micro USB PVC Data Sync & 2A Fast Charging Cable, Made in India, 480Mbps Data Sync, Solid Cable, 1 Meter Long USB Cable for Micro USB Devices (White)(XCD-M11) \n",
      " in Category :: Computers&Accessories|Accessories&Peripherals|Cables&Accessories|Cables|USBCables \n",
      " with description :: Micro USB charging cable for android phones and any other device with Micro USB Port|Charge & sync, this USB cable can charge and data sync simultaneously at 480Mbps speed, compatible with all devices with a Micro USB port. Core : Tinned Copper|Durable PVC Outer Exterior: PVC cables are versatile, high in tensile strength, flexible, and good conductors.|micro USB cable is 1 meter in length, optimized for easy use for your comfort at home or office, helps you to overcome distance restrictions. \n",
      " User has given an Review with title :: Working well. and review content :: The sturdiness will depend on the manner of its use. But its speed of charging is great. Very good product for the average income group..\n",
      "For Product :: Flix (Beetel) Usb To Type C Pvc Data Sync And 2A 480Mbps Data Sync, Tough Fast Charging Long Cable For Usb Type C Devices, Charging Adapter (White, 1 Meter) - Xcd-C12 \n",
      " in Category :: Computers&Accessories|Accessories&Peripherals|Cables&Accessories|Cables|USBCables \n",
      " with description :: Durable Pvc Outer Exterior: Pvc Cables Are Versatile, High In Tensile Strength, Flexible, And Good Conductors|Flix C12 Data And Charging Cable Is Equipped With A Type-C Usb Port, The Cable Supports Up To 2.4Amps Of Power Output For Powering And Fast Charging Your Smart Device|Type-C Usb Cable Is 1 Meter In Length, Optimized For Easy Use For Your Comfort At Home Or Office, Helps You To Overcome Distance Restrictions|Charge & Sync, This Usb Cable Can Charge And Data Sync Simultaneously At 480Mbps Speed, Compatible With All Devices With A C-Type Usb Port \n",
      " User has given an Review with title :: Working well. and review content :: The sturdiness will depend on the manner of its use. But its speed of charging is great. Very good product for the average income group..\n",
      "For Product :: FLiX (Beetel USB to Type C PVC Data Sync & 15W(3A) TPE Fast Charging Cable, Made in India, 480Mbps Data Sync, 1 Meter Long cable for all Andriod & all Type C Devices (Black)(XCD - FPC02) \n",
      " in Category :: Computers&Accessories|Accessories&Peripherals|Cables&Accessories|Cables|USBCables \n",
      " with description :: FLiX Flow Type C cable offers universal compatibility as it is compatible with most android smartphones, tablets, PC peripherals, Bluetooth speakers, power banks, game consoles & all Type C enabled devices|3A AMP fast charging cable with up to 480mbps data transfer for a fast and secure connection. The cable is Quick Charge (QC) compatible which supports upto 15 Watt of power transfer|The connectors used are capable not only for high-speed data transfer but also ensures secure, safe and stable connection|Product has gone through a stringent quality check for durability and has huge life span of 10,000 bends|Charge & sync, this USB cable can charge and data sync simultaneously at 480Mbps speed, compatible with all devices with a Type C port. Core : Tinned Copper \n",
      " User has given an Review with title :: Working well. and review content :: The sturdiness will depend on the manner of its use. But its speed of charging is great. Very good product for the average income group..\n",
      "For Product :: FLiX (Beetel Flow USB to Micro USB PVC Data Sync & 12W(2.4A) Fast Charging Cable,Made in India,480Mbps Data Sync,Solid Cable,1 Meter Long cable for all Andriod & Micro USB Devices (Black)(XCD-FPM01) \n",
      " in Category :: Computers&Accessories|Accessories&Peripherals|Cables&Accessories|Cables|USBCables \n",
      " with description :: FLiX Flow Micro USB cable offers universal compatibility as it is compatible with most android smartphones, tablets, PC peripherals, Bluetooth speakers, power banks, game consoles & all Micro-USB enabled devices|2.4 AMP fast charging cable with up to 480mbps data transfer for a fast and secure connection. The cable is Quick Charge (QC) compatible which supports upto 12 Watt of power transfer|The connectors used are capable not only for high-speed data transfer but also ensures secure, safe and stable connection|Charge & sync, this USB cable can charge and data sync simultaneously at 480Mbps speed, compatible with all devices with a Micro USB port. Core : Tinned Copper \n",
      " User has given an Review with title :: Working well. and review content :: The sturdiness will depend on the manner of its use. But its speed of charging is great. Very good product for the average income group..\n",
      "For Product :: FLiX (Beetel) USB to iPhone Lightning Textured Pattern Data Sync & 2A Fast Charging Cable, Made in India, 480Mbps Data Sync, Tough Cable, 1 Meter Long USB Cable for Apple Devices (Black)(XCD-L102) \n",
      " in Category :: Computers&Accessories|Accessories&Peripherals|Cables&Accessories|Cables|USBCables \n",
      " with description :: TPE material|Output port, 1 meter USB cable length|Customer care number: 1800-102-2700 for product related queries \n",
      " User has given an Review with title :: Working well. and review content :: The sturdiness will depend on the manner of its use. But its speed of charging is great. Very good product for the average income group..\n",
      "For Product :: FLiX (Beetel) 3in1 (Type C|Micro|Iphone Lightening) Textured Pattern 3A Fast Charging Cable with QC & PD Support for Type C,Micro USB & Lightning Iphone Cable,Made in India,1.5 Meter Long Cable(T101) \n",
      " in Category :: Computers&Accessories|Accessories&Peripherals|Cables&Accessories|Cables|USBCables \n",
      " with description :: Proudly Made In India|Blazing Charging - All combined 3 in 1 cable supports fast charging with the speed 3A to all your gadgets including mobiles, tablets, speakers and much more.|Ultra Durable - The cable is crafted with braided wire giving you an extra tough braided cable with 10000+ bends lifespan cycle|Universal Compatibility - The 3 in 1 cable gives you universal compatibility with its flexible and high-quality material that comes with a USB type C connector, micro USB connector and lightning connector.|Convenient Length - The durable and flexible cable comes with an ideal length of 1.5 meter which eliminates the struggle of finding nearby switch boards. \n",
      " User has given an Review with title :: Working well. and review content :: The sturdiness will depend on the manner of its use. But its speed of charging is great. Very good product for the average income group..\n",
      "For Product :: Flix Micro Usb Cable For Smartphone (Black) \n",
      " in Category :: Computers&Accessories|Accessories&Peripherals|Cables&Accessories|Cables|USBCables\n"
     ]
    }
   ],
   "source": [
    "print(splits[0])"
   ]
  },
  {
   "cell_type": "code",
   "execution_count": null,
   "id": "808ee5d9-92ae-4e0b-8bec-2a23dd8a8d56",
   "metadata": {},
   "outputs": [],
   "source": []
  },
  {
   "cell_type": "code",
   "execution_count": 59,
   "id": "f14027ad-d8e0-47ed-9f81-7caaa3d73688",
   "metadata": {},
   "outputs": [],
   "source": [
    "prompt = f\"\"\"Role: You are an expert in recommending products to user based on his preferences and past reviews to other products.\n",
    "You have given a user reviews for few products on amazon. Analyze them thorougly and then a closest other user reviews are also given \\\n",
    "for your reference. Based on the given context, What would be best recommended product to the user. \n",
    "####\n",
    "For a user, has given below review for few products on amazon:\n",
    "{splits[0]}\n",
    "#### For your reference\n",
    "{docs[1].page_content}\n",
    "\"\"\"\n"
   ]
  },
  {
   "cell_type": "code",
   "execution_count": 64,
   "id": "4ddea066-06bb-493a-9b0c-5fe202bc7ee1",
   "metadata": {},
   "outputs": [],
   "source": [
    "# calling open ai\n",
    "from openai import OpenAI\n",
    "client = OpenAI(api_key=openai_api_key)\n",
    "\n",
    "def callOpenAI(prompt):\n",
    "    completion = client.chat.completions.create(\n",
    "        model=\"gpt-3.5-turbo\",\n",
    "      messages=[\n",
    "        {\"role\": \"system\", \"content\": \"You are an expert in recommending products to user based on his preferences and past reviews to other products.\"},\n",
    "        {\"role\": \"user\", \"content\": prompt}\n",
    "      ]\n",
    "    )\n",
    "    return completion.choices[0].message.content"
   ]
  },
  {
   "cell_type": "code",
   "execution_count": null,
   "id": "fc7364af-d371-49f3-bfad-c735055cc89a",
   "metadata": {},
   "outputs": [],
   "source": []
  },
  {
   "cell_type": "code",
   "execution_count": 65,
   "id": "4a2d6c86-b12f-4909-94a2-217d9f81dcd5",
   "metadata": {},
   "outputs": [
    {
     "data": {
      "text/plain": [
       "\"Based on the user's review and preference for products with good charging speed and sturdiness, the best recommended product would be **FLiX (Beetel USB to Type C PVC Data Sync & 15W(3A) TPE Fast Charging Cable (XCD - FPC02)**. This product offers fast charging with 3A current output and a speed of up to 480mbps for data transfer. It is also QC compatible and supports up to 15 Watts of power transfer, making it a reliable and efficient option for the user's charging needs. Additionally, the product has been through stringent quality checks for durability and has a long lifespan of 10,000 bends, ensuring longevity and reliability for the user.\""
      ]
     },
     "execution_count": 65,
     "metadata": {},
     "output_type": "execute_result"
    }
   ],
   "source": [
    "callOpenAI(prompt)"
   ]
  },
  {
   "cell_type": "code",
   "execution_count": null,
   "id": "2ebedbf5-344b-4627-89e0-05ce0cccb6f8",
   "metadata": {},
   "outputs": [],
   "source": []
  }
 ],
 "metadata": {
  "kernelspec": {
   "display_name": "Python 3 (ipykernel)",
   "language": "python",
   "name": "python3"
  },
  "language_info": {
   "codemirror_mode": {
    "name": "ipython",
    "version": 3
   },
   "file_extension": ".py",
   "mimetype": "text/x-python",
   "name": "python",
   "nbconvert_exporter": "python",
   "pygments_lexer": "ipython3",
   "version": "3.10.14"
  }
 },
 "nbformat": 4,
 "nbformat_minor": 5
}
